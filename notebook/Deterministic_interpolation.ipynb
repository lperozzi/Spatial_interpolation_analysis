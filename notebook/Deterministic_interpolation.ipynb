{
 "cells": [
  {
   "cell_type": "code",
   "execution_count": 79,
   "metadata": {},
   "outputs": [],
   "source": [
    "import geopandas as gpd\n",
    "import pyvista as pv\n",
    "import pyvistaqt as pyqt\n",
    "import gemgis as gg\n",
    "from sklearn.ensemble import RandomForestClassifier\n",
    "import verde as vd\n",
    "import numpy as np\n",
    "import warnings\n",
    "from pyproj import CRS, Transformer\n",
    "\n",
    "import plotly.express as px\n",
    "warnings.filterwarnings('ignore')"
   ]
  },
  {
   "cell_type": "code",
   "execution_count": 80,
   "metadata": {},
   "outputs": [],
   "source": [
    "import pandas as pd\n",
    "import seaborn as sns\n",
    "import matplotlib.pyplot as plt\n",
    "sns.set_style(\"white\")\n",
    "sns.set(rc={'axes.labelcolor':'black', 'xtick.color':'black', 'ytick.color':'black'})\n",
    "# sns.set(rc={'axes.facecolor':'lightblue', 'figure.facecolor':'white'})\n"
   ]
  },
  {
   "cell_type": "code",
   "execution_count": 81,
   "metadata": {},
   "outputs": [],
   "source": [
    "#Plot the grid and the original data points\n",
    "\n",
    "def plot_depth(title, grid,original_df, my_cmap, colorbar_label, vmin, vmax):\n",
    "    plt.figure(figsize=(10,10))\n",
    "    # plt.title(title)\n",
    "    ax = plt.axes()\n",
    "    ax.set_title(title)\n",
    "    # ax.plot(*coordinates, \".k\", markersize=1)\n",
    "    \n",
    "    tmp = grid.plot.pcolormesh(\n",
    "        ax=ax, cmap=my_cmap, add_colorbar=False, vmin=vmin, vmax=vmax\n",
    "    )\n",
    "    plt.colorbar(tmp).set_label(colorbar_label)\n",
    "    pts = plt.scatter(original_df.E, original_df.N, c=original_df.MOLASSE, s=80, edgecolor='#ffffff66', vmin=vmin, vmax=vmax, cmap=my_cmap)\n",
    "    # Use an utility function to add tick labels and land and ocean features to the map.\n",
    "    # vd.datasets.setup_texas_wind_map(ax, region=region)\n",
    "    plt.title(title)\n",
    "    return plt.show()"
   ]
  },
  {
   "cell_type": "markdown",
   "metadata": {},
   "source": [
    "A tutorial for fetching data from opendata.swiss API is available here  https://www.datacareer.ch/blog/fetching-data-from-the-opendata-swiss-api-a-short-tutorial-in-python/. SITG files are stored into .zip packages and to fetch them it requires an alternative approach. Often there are several ´.csv´ inside a zip and the following snippet code allow to store all ´.csv´ as pd.DataFrame in a dictionary.\n",
    "\n"
   ]
  },
  {
   "cell_type": "code",
   "execution_count": 82,
   "metadata": {},
   "outputs": [
    {
     "name": "stdout",
     "output_type": "stream",
     "text": [
      "GOL_SONDAGE.csv\n"
     ]
    }
   ],
   "source": [
    "from zipfile import ZipFile\n",
    "import urllib.request\n",
    "from io import BytesIO\n",
    "# zip_file = ZipFile(urllib.request.urlopen((data_url).read()))\n",
    "data_url = 'https://ge.ch/sitg/geodata/SITG/OPENDATA/4108/CSV_GOL_SONDAGE.zip'\n",
    "# data_url = 'https://ge.ch/sitg/geodata/SITG/OPENDATA/4108/SHP_FFP_REG04_BLEU_LIGNE.zip'\n",
    "\n",
    "zip_file = ZipFile(BytesIO(urllib.request.urlopen(data_url).read()))\n",
    "\n",
    "dfs = {text_file.filename: pd.read_csv(zip_file.open(text_file.filename),           encoding='ISO-8859-1', \n",
    "sep=';',)\n",
    "       for text_file in zip_file.infolist()\n",
    "       if text_file.filename.endswith('.csv')}\n",
    "\n",
    "for key, values in dfs.items():\n",
    "    print(key)"
   ]
  },
  {
   "cell_type": "code",
   "execution_count": 83,
   "metadata": {},
   "outputs": [],
   "source": [
    "# sondage = dfs['GOL_SONDAGE.csv']\n",
    "# sondage.info()\n",
    "# sondage.plot(kind='scatter', x= 'E', y='N')\n",
    "# sondage_clean = sondage.dropna(subset=['MOLASSE','ALLUV_ANC','RISS'])\n"
   ]
  },
  {
   "cell_type": "code",
   "execution_count": 84,
   "metadata": {},
   "outputs": [],
   "source": [
    "# coordinates = (df.E.values, df.N.values)\n",
    "# region = vd.get_region(coordinates)\n",
    "# region"
   ]
  },
  {
   "cell_type": "code",
   "execution_count": 85,
   "metadata": {},
   "outputs": [],
   "source": [
    "# sondage_clean.plot(kind='scatter', x= 'E', y='N')\n"
   ]
  },
  {
   "cell_type": "code",
   "execution_count": 86,
   "metadata": {},
   "outputs": [],
   "source": [
    "# sns.distplot(sondage_clean['MOLASSE'])"
   ]
  },
  {
   "cell_type": "code",
   "execution_count": 87,
   "metadata": {},
   "outputs": [],
   "source": [
    "# reducer_center = vd.BlockReduce(\n",
    "#     reduction=np.median, spacing=200, center_coordinates=True\n",
    "# )\n",
    "# coordinates_center, ( MOLASSE, PROFONDEUR, HTN)  = reducer_center.filter(\n",
    "#     coordinates=(sondage_clean.E, sondage_clean.N), data=( sondage_clean.MOLASSE, sondage_clean.PROFONDEUR, sondage_clean.HTN)\n",
    "# )\n",
    "\n",
    "# plt.figure(figsize=(7, 7))\n",
    "# plt.plot(*coordinates_center, \".k\",)\n",
    "# plt.show()"
   ]
  },
  {
   "cell_type": "code",
   "execution_count": 88,
   "metadata": {},
   "outputs": [],
   "source": [
    "# df = pd.DataFrame({'E':coordinates_center[0],'N':coordinates_center[1],'MOLASSE':MOLASSE, 'PROFONDEUR':PROFONDEUR, 'ALTITUDE':HTN})\n",
    "# df.info()"
   ]
  },
  {
   "cell_type": "code",
   "execution_count": 89,
   "metadata": {},
   "outputs": [],
   "source": [
    "# df['MOLASSE'] = df.MOLASSE *-1\n",
    "# df['PROFONDEUR'] = df.PROFONDEUR *-1\n"
   ]
  },
  {
   "cell_type": "code",
   "execution_count": 90,
   "metadata": {},
   "outputs": [],
   "source": [
    "# coordinates = (df.E.values, df.N.values)\n",
    "# region = vd.get_region(coordinates)\n",
    "# region_small = [2495000, 2495000+6000, 1116000, 1116000+6000]\n",
    "# df_small = df[vd.inside((df.E,df.N), region_small)]\n",
    "# df_small.info()\n",
    "# plt.figure(figsize=(7, 7))\n",
    "\n",
    "# plt.plot(df_small.E, df_small.N,\".r\" )\n",
    "\n",
    "# plt.show()"
   ]
  },
  {
   "cell_type": "code",
   "execution_count": 91,
   "metadata": {},
   "outputs": [],
   "source": [
    "# crs_4326 = CRS.from_epsg(4326)\n",
    "# crs_2056 = CRS.from_epsg(2056)\n",
    "# transformer = Transformer.from_crs(crs_2056, crs_4326)\n",
    "# df['lat'], df['lon'] = transformer.transform(df.E,df.N)\n",
    "# df.head()"
   ]
  },
  {
   "cell_type": "code",
   "execution_count": 92,
   "metadata": {},
   "outputs": [],
   "source": [
    "# df.info()\n",
    "# df.to_csv('../data/sondage_clean.csv', index=False)"
   ]
  },
  {
   "cell_type": "markdown",
   "metadata": {},
   "source": [
    "The data set is part of the public dataset of GESDEC (Canton of Geneva) available at https://ge.ch/sitg/fiche/4108"
   ]
  },
  {
   "cell_type": "code",
   "execution_count": 93,
   "metadata": {},
   "outputs": [
    {
     "data": {
      "text/html": [
       "<div>\n",
       "<style scoped>\n",
       "    .dataframe tbody tr th:only-of-type {\n",
       "        vertical-align: middle;\n",
       "    }\n",
       "\n",
       "    .dataframe tbody tr th {\n",
       "        vertical-align: top;\n",
       "    }\n",
       "\n",
       "    .dataframe thead th {\n",
       "        text-align: right;\n",
       "    }\n",
       "</style>\n",
       "<table border=\"1\" class=\"dataframe\">\n",
       "  <thead>\n",
       "    <tr style=\"text-align: right;\">\n",
       "      <th></th>\n",
       "      <th>E</th>\n",
       "      <th>N</th>\n",
       "      <th>MOLASSE</th>\n",
       "      <th>PROFONDEUR</th>\n",
       "      <th>ALTITUDE</th>\n",
       "      <th>lat</th>\n",
       "      <th>lon</th>\n",
       "    </tr>\n",
       "  </thead>\n",
       "  <tbody>\n",
       "    <tr>\n",
       "      <th>count</th>\n",
       "      <td>63.00</td>\n",
       "      <td>63.00</td>\n",
       "      <td>63.00</td>\n",
       "      <td>63.00</td>\n",
       "      <td>63.00</td>\n",
       "      <td>63.00</td>\n",
       "      <td>63.00</td>\n",
       "    </tr>\n",
       "    <tr>\n",
       "      <th>mean</th>\n",
       "      <td>2498157.31</td>\n",
       "      <td>1119250.34</td>\n",
       "      <td>-367.32</td>\n",
       "      <td>-111.58</td>\n",
       "      <td>417.63</td>\n",
       "      <td>46.22</td>\n",
       "      <td>6.12</td>\n",
       "    </tr>\n",
       "    <tr>\n",
       "      <th>std</th>\n",
       "      <td>1524.51</td>\n",
       "      <td>1724.57</td>\n",
       "      <td>37.88</td>\n",
       "      <td>92.05</td>\n",
       "      <td>24.36</td>\n",
       "      <td>0.02</td>\n",
       "      <td>0.02</td>\n",
       "    </tr>\n",
       "    <tr>\n",
       "      <th>min</th>\n",
       "      <td>2495176.14</td>\n",
       "      <td>1116172.65</td>\n",
       "      <td>-445.21</td>\n",
       "      <td>-300.00</td>\n",
       "      <td>370.14</td>\n",
       "      <td>46.19</td>\n",
       "      <td>6.08</td>\n",
       "    </tr>\n",
       "    <tr>\n",
       "      <th>25%</th>\n",
       "      <td>2496777.96</td>\n",
       "      <td>1117966.12</td>\n",
       "      <td>-387.50</td>\n",
       "      <td>-170.00</td>\n",
       "      <td>402.39</td>\n",
       "      <td>46.21</td>\n",
       "      <td>6.10</td>\n",
       "    </tr>\n",
       "    <tr>\n",
       "      <th>50%</th>\n",
       "      <td>2498580.01</td>\n",
       "      <td>1118962.50</td>\n",
       "      <td>-358.71</td>\n",
       "      <td>-70.70</td>\n",
       "      <td>418.07</td>\n",
       "      <td>46.21</td>\n",
       "      <td>6.12</td>\n",
       "    </tr>\n",
       "    <tr>\n",
       "      <th>75%</th>\n",
       "      <td>2499180.70</td>\n",
       "      <td>1120855.60</td>\n",
       "      <td>-348.60</td>\n",
       "      <td>-36.75</td>\n",
       "      <td>433.43</td>\n",
       "      <td>46.23</td>\n",
       "      <td>6.13</td>\n",
       "    </tr>\n",
       "    <tr>\n",
       "      <th>max</th>\n",
       "      <td>2500782.52</td>\n",
       "      <td>1121951.61</td>\n",
       "      <td>-286.00</td>\n",
       "      <td>-9.10</td>\n",
       "      <td>464.95</td>\n",
       "      <td>46.24</td>\n",
       "      <td>6.15</td>\n",
       "    </tr>\n",
       "  </tbody>\n",
       "</table>\n",
       "</div>"
      ],
      "text/plain": [
       "               E          N  MOLASSE  PROFONDEUR  ALTITUDE   lat   lon\n",
       "count      63.00      63.00    63.00       63.00     63.00 63.00 63.00\n",
       "mean  2498157.31 1119250.34  -367.32     -111.58    417.63 46.22  6.12\n",
       "std      1524.51    1724.57    37.88       92.05     24.36  0.02  0.02\n",
       "min   2495176.14 1116172.65  -445.21     -300.00    370.14 46.19  6.08\n",
       "25%   2496777.96 1117966.12  -387.50     -170.00    402.39 46.21  6.10\n",
       "50%   2498580.01 1118962.50  -358.71      -70.70    418.07 46.21  6.12\n",
       "75%   2499180.70 1120855.60  -348.60      -36.75    433.43 46.23  6.13\n",
       "max   2500782.52 1121951.61  -286.00       -9.10    464.95 46.24  6.15"
      ]
     },
     "execution_count": 93,
     "metadata": {},
     "output_type": "execute_result"
    }
   ],
   "source": [
    "df = pd.read_csv('../data/sondage_clean.csv')\n",
    "df.describe()"
   ]
  },
  {
   "cell_type": "code",
   "execution_count": 94,
   "metadata": {},
   "outputs": [
    {
     "data": {
      "application/vnd.plotly.v1+json": {
       "config": {
        "plotlyServerURL": "https://plot.ly"
       },
       "data": [
        {
         "hovertemplate": "ALTITUDE=%{marker.size}<br>lat=%{lat}<br>lon=%{lon}<br>MOLASSE=%{marker.color}<extra></extra>",
         "lat": [
          46.18886762577398,
          46.189328234844176,
          46.18935846563518,
          46.19443047165343,
          46.19470525587379,
          46.19646730221693,
          46.19801513516897,
          46.198350349191074,
          46.19971479115837,
          46.19983824000213,
          46.2014450363866,
          46.20163057312988,
          46.20345362168816,
          46.20381755822685,
          46.20384749902561,
          46.20533774750706,
          46.20542900271288,
          46.20563984629136,
          46.20566972848816,
          46.2068220184624,
          46.20703829065764,
          46.207281884129415,
          46.209043985128986,
          46.20907422677044,
          46.20913453130687,
          46.21092687605254,
          46.21098694421946,
          46.21101688892618,
          46.21104677404818,
          46.21244595585716,
          46.21274928579025,
          46.21460158469647,
          46.21824599944857,
          46.2183351301838,
          46.21946138152133,
          46.221098298726886,
          46.22165081794816,
          46.22168094730688,
          46.2219494297028,
          46.22350336370723,
          46.22365282345553,
          46.22368253660974,
          46.22468295212915,
          46.22529571046789,
          46.226845806848935,
          46.23064267680045,
          46.23067275147099,
          46.23246509870663,
          46.23422736942252,
          46.2342574460566,
          46.23428746308101,
          46.23565413485152,
          46.236079811523545,
          46.237384702771294,
          46.23747726345911,
          46.23784214109271,
          46.23908393528804,
          46.23917703551994,
          46.23945311706792,
          46.239634488775344,
          46.24100028356792,
          46.24103113914519,
          46.24142683656536
         ],
         "legendgroup": "",
         "lon": [
          6.083467331627515,
          6.122362886433081,
          6.124955946548206,
          6.098893067887951,
          6.122232783335841,
          6.119596011360041,
          6.098804782046504,
          6.127333010242345,
          6.090980013801958,
          6.101354180964193,
          6.085748370865045,
          6.10131011617987,
          6.10385976832127,
          6.1349846311597735,
          6.137578388318432,
          6.111597216104017,
          6.1193786750805925,
          6.137535512994648,
          6.1401293583628,
          6.085614622539303,
          6.103771795077662,
          6.124523023740475,
          6.121885716826226,
          6.124479715871658,
          6.12966772254488,
          6.129624582623148,
          6.134812771485756,
          6.137406870180529,
          6.140000971710104,
          6.106233963244356,
          6.132175618282407,
          6.13732109426564,
          6.142424196259823,
          6.150207551146303,
          6.093085862092379,
          6.080068728342215,
          6.126771081141996,
          6.129365683764495,
          6.152717235103919,
          6.131917214970703,
          6.144890712117766,
          6.1474854200300815,
          6.079979159758676,
          6.131874137879502,
          6.111072243927847,
          6.129149856988708,
          6.131744889675088,
          6.1317018012956135,
          6.129063506483663,
          6.131658710093275,
          6.134253916553146,
          6.097877082433597,
          6.134210907997949,
          6.092642203398072,
          6.100428214331008,
          6.131572519218722,
          6.084811580601322,
          6.092597821541535,
          6.11595670229348,
          6.131529419545868,
          6.095148941785315,
          6.0977444497243205,
          6.131486317048872
         ],
         "marker": {
          "color": [
           -355.93,
           -357,
           -369,
           -286,
           -380.95,
           -351,
           -340,
           -365.28,
           -353.25,
           -344,
           -359.5,
           -292,
           -337,
           -355.565,
           -357.7,
           -359,
           -323.07,
           -347.495,
           -346.1,
           -365.6,
           -356.02,
           -344.39,
           -358.08,
           -368,
           -351.9,
           -358,
           -350,
           -340,
           -337.3,
           -359.5,
           -366.25,
           -366.29,
           -369.5,
           -314.92,
           -390,
           -302,
           -412,
           -424.5,
           -361.08,
           -412.265,
           -358.71,
           -353.58,
           -301.90000000000003,
           -412.645,
           -373,
           -438.1,
           -428.34,
           -442.9,
           -426.8,
           -436.175,
           -445.19,
           -324,
           -445.21,
           -385,
           -327,
           -414.325,
           -404.73,
           -353.35,
           -373,
           -401.97,
           -349.70000000000005,
           -350.95000000000005,
           -407
          ],
          "coloraxis": "coloraxis",
          "size": [
           412.83,
           417,
           385,
           386,
           411.05,
           421,
           400.5,
           404.28,
           391.15,
           420,
           409,
           420,
           422,
           372.215,
           372.5,
           424.4,
           418.07,
           370.145,
           381.3,
           391.9,
           416.92,
           415.39,
           416.38,
           414.5,
           410.63,
           412,
           408,
           392,
           391.02,
           423,
           409.55,
           407.94,
           393.35,
           374.22,
           430,
           438,
           446,
           433.1,
           378.18,
           434.165,
           388.71,
           387.23,
           431.9,
           435.6,
           430,
           450.3,
           447.94,
           457,
           464.9450000000001,
           463.5,
           456.64,
           428,
           460.21,
           435,
           425,
           457.975,
           438.73,
           433.75,
           417,
           440.32,
           428.74,
           428.705,
           429
          ],
          "sizemode": "area",
          "sizeref": 4.649450000000001
         },
         "mode": "markers",
         "name": "",
         "showlegend": false,
         "subplot": "mapbox",
         "type": "scattermapbox"
        }
       ],
       "layout": {
        "coloraxis": {
         "colorbar": {
          "title": {
           "text": "MOLASSE"
          }
         },
         "colorscale": [
          [
           0,
           "rgb(161, 105, 40)"
          ],
          [
           0.16666666666666666,
           "rgb(189, 146, 90)"
          ],
          [
           0.3333333333333333,
           "rgb(214, 189, 141)"
          ],
          [
           0.5,
           "rgb(237, 234, 194)"
          ],
          [
           0.6666666666666666,
           "rgb(181, 200, 184)"
          ],
          [
           0.8333333333333334,
           "rgb(121, 167, 172)"
          ],
          [
           1,
           "rgb(40, 135, 161)"
          ]
         ]
        },
        "legend": {
         "itemsizing": "constant",
         "tracegroupgap": 0
        },
        "mapbox": {
         "center": {
          "lat": 46.215,
          "lon": 6.115
         },
         "domain": {
          "x": [
           0,
           1
          ],
          "y": [
           0,
           1
          ]
         },
         "style": "https://api.maptiler.com/maps/ch-swisstopo-lbm-grey/style.json?key=Y0QFvc1p5eTvlCMj4GEX",
         "zoom": 11.8
        },
        "margin": {
         "b": 20,
         "l": 75,
         "r": 20,
         "t": 10
        },
        "template": {
         "data": {
          "bar": [
           {
            "error_x": {
             "color": "#2a3f5f"
            },
            "error_y": {
             "color": "#2a3f5f"
            },
            "marker": {
             "line": {
              "color": "#E5ECF6",
              "width": 0.5
             },
             "pattern": {
              "fillmode": "overlay",
              "size": 10,
              "solidity": 0.2
             }
            },
            "type": "bar"
           }
          ],
          "barpolar": [
           {
            "marker": {
             "line": {
              "color": "#E5ECF6",
              "width": 0.5
             },
             "pattern": {
              "fillmode": "overlay",
              "size": 10,
              "solidity": 0.2
             }
            },
            "type": "barpolar"
           }
          ],
          "carpet": [
           {
            "aaxis": {
             "endlinecolor": "#2a3f5f",
             "gridcolor": "white",
             "linecolor": "white",
             "minorgridcolor": "white",
             "startlinecolor": "#2a3f5f"
            },
            "baxis": {
             "endlinecolor": "#2a3f5f",
             "gridcolor": "white",
             "linecolor": "white",
             "minorgridcolor": "white",
             "startlinecolor": "#2a3f5f"
            },
            "type": "carpet"
           }
          ],
          "choropleth": [
           {
            "colorbar": {
             "outlinewidth": 0,
             "ticks": ""
            },
            "type": "choropleth"
           }
          ],
          "contour": [
           {
            "colorbar": {
             "outlinewidth": 0,
             "ticks": ""
            },
            "colorscale": [
             [
              0,
              "#0d0887"
             ],
             [
              0.1111111111111111,
              "#46039f"
             ],
             [
              0.2222222222222222,
              "#7201a8"
             ],
             [
              0.3333333333333333,
              "#9c179e"
             ],
             [
              0.4444444444444444,
              "#bd3786"
             ],
             [
              0.5555555555555556,
              "#d8576b"
             ],
             [
              0.6666666666666666,
              "#ed7953"
             ],
             [
              0.7777777777777778,
              "#fb9f3a"
             ],
             [
              0.8888888888888888,
              "#fdca26"
             ],
             [
              1,
              "#f0f921"
             ]
            ],
            "type": "contour"
           }
          ],
          "contourcarpet": [
           {
            "colorbar": {
             "outlinewidth": 0,
             "ticks": ""
            },
            "type": "contourcarpet"
           }
          ],
          "heatmap": [
           {
            "colorbar": {
             "outlinewidth": 0,
             "ticks": ""
            },
            "colorscale": [
             [
              0,
              "#0d0887"
             ],
             [
              0.1111111111111111,
              "#46039f"
             ],
             [
              0.2222222222222222,
              "#7201a8"
             ],
             [
              0.3333333333333333,
              "#9c179e"
             ],
             [
              0.4444444444444444,
              "#bd3786"
             ],
             [
              0.5555555555555556,
              "#d8576b"
             ],
             [
              0.6666666666666666,
              "#ed7953"
             ],
             [
              0.7777777777777778,
              "#fb9f3a"
             ],
             [
              0.8888888888888888,
              "#fdca26"
             ],
             [
              1,
              "#f0f921"
             ]
            ],
            "type": "heatmap"
           }
          ],
          "heatmapgl": [
           {
            "colorbar": {
             "outlinewidth": 0,
             "ticks": ""
            },
            "colorscale": [
             [
              0,
              "#0d0887"
             ],
             [
              0.1111111111111111,
              "#46039f"
             ],
             [
              0.2222222222222222,
              "#7201a8"
             ],
             [
              0.3333333333333333,
              "#9c179e"
             ],
             [
              0.4444444444444444,
              "#bd3786"
             ],
             [
              0.5555555555555556,
              "#d8576b"
             ],
             [
              0.6666666666666666,
              "#ed7953"
             ],
             [
              0.7777777777777778,
              "#fb9f3a"
             ],
             [
              0.8888888888888888,
              "#fdca26"
             ],
             [
              1,
              "#f0f921"
             ]
            ],
            "type": "heatmapgl"
           }
          ],
          "histogram": [
           {
            "marker": {
             "pattern": {
              "fillmode": "overlay",
              "size": 10,
              "solidity": 0.2
             }
            },
            "type": "histogram"
           }
          ],
          "histogram2d": [
           {
            "colorbar": {
             "outlinewidth": 0,
             "ticks": ""
            },
            "colorscale": [
             [
              0,
              "#0d0887"
             ],
             [
              0.1111111111111111,
              "#46039f"
             ],
             [
              0.2222222222222222,
              "#7201a8"
             ],
             [
              0.3333333333333333,
              "#9c179e"
             ],
             [
              0.4444444444444444,
              "#bd3786"
             ],
             [
              0.5555555555555556,
              "#d8576b"
             ],
             [
              0.6666666666666666,
              "#ed7953"
             ],
             [
              0.7777777777777778,
              "#fb9f3a"
             ],
             [
              0.8888888888888888,
              "#fdca26"
             ],
             [
              1,
              "#f0f921"
             ]
            ],
            "type": "histogram2d"
           }
          ],
          "histogram2dcontour": [
           {
            "colorbar": {
             "outlinewidth": 0,
             "ticks": ""
            },
            "colorscale": [
             [
              0,
              "#0d0887"
             ],
             [
              0.1111111111111111,
              "#46039f"
             ],
             [
              0.2222222222222222,
              "#7201a8"
             ],
             [
              0.3333333333333333,
              "#9c179e"
             ],
             [
              0.4444444444444444,
              "#bd3786"
             ],
             [
              0.5555555555555556,
              "#d8576b"
             ],
             [
              0.6666666666666666,
              "#ed7953"
             ],
             [
              0.7777777777777778,
              "#fb9f3a"
             ],
             [
              0.8888888888888888,
              "#fdca26"
             ],
             [
              1,
              "#f0f921"
             ]
            ],
            "type": "histogram2dcontour"
           }
          ],
          "mesh3d": [
           {
            "colorbar": {
             "outlinewidth": 0,
             "ticks": ""
            },
            "type": "mesh3d"
           }
          ],
          "parcoords": [
           {
            "line": {
             "colorbar": {
              "outlinewidth": 0,
              "ticks": ""
             }
            },
            "type": "parcoords"
           }
          ],
          "pie": [
           {
            "automargin": true,
            "type": "pie"
           }
          ],
          "scatter": [
           {
            "marker": {
             "colorbar": {
              "outlinewidth": 0,
              "ticks": ""
             }
            },
            "type": "scatter"
           }
          ],
          "scatter3d": [
           {
            "line": {
             "colorbar": {
              "outlinewidth": 0,
              "ticks": ""
             }
            },
            "marker": {
             "colorbar": {
              "outlinewidth": 0,
              "ticks": ""
             }
            },
            "type": "scatter3d"
           }
          ],
          "scattercarpet": [
           {
            "marker": {
             "colorbar": {
              "outlinewidth": 0,
              "ticks": ""
             }
            },
            "type": "scattercarpet"
           }
          ],
          "scattergeo": [
           {
            "marker": {
             "colorbar": {
              "outlinewidth": 0,
              "ticks": ""
             }
            },
            "type": "scattergeo"
           }
          ],
          "scattergl": [
           {
            "marker": {
             "colorbar": {
              "outlinewidth": 0,
              "ticks": ""
             }
            },
            "type": "scattergl"
           }
          ],
          "scattermapbox": [
           {
            "marker": {
             "colorbar": {
              "outlinewidth": 0,
              "ticks": ""
             }
            },
            "type": "scattermapbox"
           }
          ],
          "scatterpolar": [
           {
            "marker": {
             "colorbar": {
              "outlinewidth": 0,
              "ticks": ""
             }
            },
            "type": "scatterpolar"
           }
          ],
          "scatterpolargl": [
           {
            "marker": {
             "colorbar": {
              "outlinewidth": 0,
              "ticks": ""
             }
            },
            "type": "scatterpolargl"
           }
          ],
          "scatterternary": [
           {
            "marker": {
             "colorbar": {
              "outlinewidth": 0,
              "ticks": ""
             }
            },
            "type": "scatterternary"
           }
          ],
          "surface": [
           {
            "colorbar": {
             "outlinewidth": 0,
             "ticks": ""
            },
            "colorscale": [
             [
              0,
              "#0d0887"
             ],
             [
              0.1111111111111111,
              "#46039f"
             ],
             [
              0.2222222222222222,
              "#7201a8"
             ],
             [
              0.3333333333333333,
              "#9c179e"
             ],
             [
              0.4444444444444444,
              "#bd3786"
             ],
             [
              0.5555555555555556,
              "#d8576b"
             ],
             [
              0.6666666666666666,
              "#ed7953"
             ],
             [
              0.7777777777777778,
              "#fb9f3a"
             ],
             [
              0.8888888888888888,
              "#fdca26"
             ],
             [
              1,
              "#f0f921"
             ]
            ],
            "type": "surface"
           }
          ],
          "table": [
           {
            "cells": {
             "fill": {
              "color": "#EBF0F8"
             },
             "line": {
              "color": "white"
             }
            },
            "header": {
             "fill": {
              "color": "#C8D4E3"
             },
             "line": {
              "color": "white"
             }
            },
            "type": "table"
           }
          ]
         },
         "layout": {
          "annotationdefaults": {
           "arrowcolor": "#2a3f5f",
           "arrowhead": 0,
           "arrowwidth": 1
          },
          "autotypenumbers": "strict",
          "coloraxis": {
           "colorbar": {
            "outlinewidth": 0,
            "ticks": ""
           }
          },
          "colorscale": {
           "diverging": [
            [
             0,
             "#8e0152"
            ],
            [
             0.1,
             "#c51b7d"
            ],
            [
             0.2,
             "#de77ae"
            ],
            [
             0.3,
             "#f1b6da"
            ],
            [
             0.4,
             "#fde0ef"
            ],
            [
             0.5,
             "#f7f7f7"
            ],
            [
             0.6,
             "#e6f5d0"
            ],
            [
             0.7,
             "#b8e186"
            ],
            [
             0.8,
             "#7fbc41"
            ],
            [
             0.9,
             "#4d9221"
            ],
            [
             1,
             "#276419"
            ]
           ],
           "sequential": [
            [
             0,
             "#0d0887"
            ],
            [
             0.1111111111111111,
             "#46039f"
            ],
            [
             0.2222222222222222,
             "#7201a8"
            ],
            [
             0.3333333333333333,
             "#9c179e"
            ],
            [
             0.4444444444444444,
             "#bd3786"
            ],
            [
             0.5555555555555556,
             "#d8576b"
            ],
            [
             0.6666666666666666,
             "#ed7953"
            ],
            [
             0.7777777777777778,
             "#fb9f3a"
            ],
            [
             0.8888888888888888,
             "#fdca26"
            ],
            [
             1,
             "#f0f921"
            ]
           ],
           "sequentialminus": [
            [
             0,
             "#0d0887"
            ],
            [
             0.1111111111111111,
             "#46039f"
            ],
            [
             0.2222222222222222,
             "#7201a8"
            ],
            [
             0.3333333333333333,
             "#9c179e"
            ],
            [
             0.4444444444444444,
             "#bd3786"
            ],
            [
             0.5555555555555556,
             "#d8576b"
            ],
            [
             0.6666666666666666,
             "#ed7953"
            ],
            [
             0.7777777777777778,
             "#fb9f3a"
            ],
            [
             0.8888888888888888,
             "#fdca26"
            ],
            [
             1,
             "#f0f921"
            ]
           ]
          },
          "colorway": [
           "#636efa",
           "#EF553B",
           "#00cc96",
           "#ab63fa",
           "#FFA15A",
           "#19d3f3",
           "#FF6692",
           "#B6E880",
           "#FF97FF",
           "#FECB52"
          ],
          "font": {
           "color": "#2a3f5f"
          },
          "geo": {
           "bgcolor": "white",
           "lakecolor": "white",
           "landcolor": "#E5ECF6",
           "showlakes": true,
           "showland": true,
           "subunitcolor": "white"
          },
          "hoverlabel": {
           "align": "left"
          },
          "hovermode": "closest",
          "mapbox": {
           "style": "light"
          },
          "paper_bgcolor": "white",
          "plot_bgcolor": "#E5ECF6",
          "polar": {
           "angularaxis": {
            "gridcolor": "white",
            "linecolor": "white",
            "ticks": ""
           },
           "bgcolor": "#E5ECF6",
           "radialaxis": {
            "gridcolor": "white",
            "linecolor": "white",
            "ticks": ""
           }
          },
          "scene": {
           "xaxis": {
            "backgroundcolor": "#E5ECF6",
            "gridcolor": "white",
            "gridwidth": 2,
            "linecolor": "white",
            "showbackground": true,
            "ticks": "",
            "zerolinecolor": "white"
           },
           "yaxis": {
            "backgroundcolor": "#E5ECF6",
            "gridcolor": "white",
            "gridwidth": 2,
            "linecolor": "white",
            "showbackground": true,
            "ticks": "",
            "zerolinecolor": "white"
           },
           "zaxis": {
            "backgroundcolor": "#E5ECF6",
            "gridcolor": "white",
            "gridwidth": 2,
            "linecolor": "white",
            "showbackground": true,
            "ticks": "",
            "zerolinecolor": "white"
           }
          },
          "shapedefaults": {
           "line": {
            "color": "#2a3f5f"
           }
          },
          "ternary": {
           "aaxis": {
            "gridcolor": "white",
            "linecolor": "white",
            "ticks": ""
           },
           "baxis": {
            "gridcolor": "white",
            "linecolor": "white",
            "ticks": ""
           },
           "bgcolor": "#E5ECF6",
           "caxis": {
            "gridcolor": "white",
            "linecolor": "white",
            "ticks": ""
           }
          },
          "title": {
           "x": 0.05
          },
          "xaxis": {
           "automargin": true,
           "gridcolor": "white",
           "linecolor": "white",
           "ticks": "",
           "title": {
            "standoff": 15
           },
           "zerolinecolor": "white",
           "zerolinewidth": 2
          },
          "yaxis": {
           "automargin": true,
           "gridcolor": "white",
           "linecolor": "white",
           "ticks": "",
           "title": {
            "standoff": 15
           },
           "zerolinecolor": "white",
           "zerolinewidth": 2
          }
         }
        }
       }
      }
     },
     "metadata": {},
     "output_type": "display_data"
    }
   ],
   "source": [
    "fig = px.scatter_mapbox(df, lat=\"lat\", lon=\"lon\", color=\"MOLASSE\", size=\"ALTITUDE\",\n",
    "                  color_continuous_scale='earth', size_max=10, zoom=11,)\n",
    "\n",
    "fig.update_layout(margin=dict(l=75, r=20, t=10, b=20),\n",
    "mapbox = dict(style = \"https://api.maptiler.com/maps/ch-swisstopo-lbm-grey/style.json?key=Y0QFvc1p5eTvlCMj4GEX\",zoom= 11.8,center= {\"lon\": 6.115, \"lat\": 46.215},),)\n",
    "fig.show()"
   ]
  },
  {
   "cell_type": "code",
   "execution_count": 95,
   "metadata": {},
   "outputs": [
    {
     "data": {
      "text/plain": [
       "199.27456896519288"
      ]
     },
     "execution_count": 95,
     "metadata": {},
     "output_type": "execute_result"
    }
   ],
   "source": [
    "distance = vd.median_distance((df.E, df.N))\n",
    "min(distance)"
   ]
  },
  {
   "cell_type": "code",
   "execution_count": 96,
   "metadata": {},
   "outputs": [
    {
     "data": {
      "image/png": "[encoded data removed]",
      "text/plain": [
       "<Figure size 432x288 with 1 Axes>"
      ]
     },
     "metadata": {},
     "output_type": "display_data"
    }
   ],
   "source": [
    "# Create an array with the colors you want to use\n",
    "colors = [\"#d00000\"]\n",
    "# Set your custom color palette\n",
    "sns.set_palette(sns.color_palette(colors))\n",
    "\n",
    "sns.boxenplot(data=df[[\"MOLASSE\"]], orient='h', order=['MOLASSE'])\n",
    "sns.despine(top=True, left=False)"
   ]
  },
  {
   "cell_type": "markdown",
   "metadata": {},
   "source": [
    "The range of the Molasse depth is between -280 to -400 m under the surface."
   ]
  },
  {
   "cell_type": "markdown",
   "metadata": {},
   "source": [
    "### Data analytics and visualization\n",
    "\n",
    "Lets define grid and the limits for plotting"
   ]
  },
  {
   "cell_type": "code",
   "execution_count": 97,
   "metadata": {},
   "outputs": [],
   "source": [
    "coordinates = (df.E.values, df.N.values)\n",
    "region = vd.get_region(coordinates)\n",
    "region = (2495000, 2495000+6000, 1116000,1116000+6000)\n",
    "\n",
    "spacing = 50"
   ]
  },
  {
   "cell_type": "code",
   "execution_count": 98,
   "metadata": {},
   "outputs": [
    {
     "data": {
      "text/plain": [
       "<matplotlib.collections.PathCollection at 0x150a4f670>"
      ]
     },
     "execution_count": 98,
     "metadata": {},
     "output_type": "execute_result"
    },
    {
     "data": {
      "image/png": "[encoded data removed]",
      "text/plain": [
       "<Figure size 720x432 with 1 Axes>"
      ]
     },
     "metadata": {},
     "output_type": "display_data"
    }
   ],
   "source": [
    "grid_E = vd.grid_coordinates(region=region,spacing=spacing)[0]\n",
    "grid_N = vd.grid_coordinates(region=region,spacing=spacing)[1]\n",
    "plt.figure(figsize=(10,6))\n",
    "plt.scatter(grid_E, grid_N, s=1, color='blue')"
   ]
  },
  {
   "cell_type": "markdown",
   "metadata": {},
   "source": [
    "### Nearest-neighbor interpolation using Verde\n",
    "\n",
    "Let's make a very simple  interpolation  using a nearest-neighbor algorithm"
   ]
  },
  {
   "cell_type": "code",
   "execution_count": 99,
   "metadata": {},
   "outputs": [
    {
     "name": "stdout",
     "output_type": "stream",
     "text": [
      "\n",
      "Score: 0.077\n"
     ]
    }
   ],
   "source": [
    "chain = vd.Chain(\n",
    "    [\n",
    "        (\"mean\", vd.BlockReduce(np.mean, spacing=spacing )),\n",
    "        (\"spline\", vd.ScipyGridder(method=\"nearest\")),\n",
    "    ]\n",
    ")\n",
    "\n",
    "train, test = vd.train_test_split(\n",
    "    coordinates,df.MOLASSE, random_state=0\n",
    ")\n",
    "\n",
    "chain.fit(*train)\n",
    "\n",
    "score = chain.score(*test)\n",
    "print(\"\\nScore: {:.3f}\".format(score))\n",
    "\n",
    "grid = chain.grid(\n",
    "    region=region,\n",
    "    spacing=spacing,\n",
    "    # projection=projection,\n",
    "    dims=[\"N\", \"E\"],\n",
    "    data_names=\"MOLASSE\",\n",
    ")"
   ]
  },
  {
   "cell_type": "code",
   "execution_count": 100,
   "metadata": {},
   "outputs": [
    {
     "data": {
      "image/png": "[encoded data removed]",
      "text/plain": [
       "<Figure size 720x720 with 2 Axes>"
      ]
     },
     "metadata": {},
     "output_type": "display_data"
    }
   ],
   "source": [
    "plot_depth('Nearest neighbor interpolation', grid.MOLASSE,df, 'gist_earth_r', 'Depth of Molasse', -440, -280)"
   ]
  },
  {
   "cell_type": "markdown",
   "metadata": {},
   "source": [
    "### Biharmonic Spline interpolation using Verde \n",
    "\n",
    "Let's make a very simple  interpolation  using a biharmonic algorithm"
   ]
  },
  {
   "cell_type": "code",
   "execution_count": 68,
   "metadata": {},
   "outputs": [
    {
     "name": "stderr",
     "output_type": "stream",
     "text": [
      "OMP: Info #273: omp_set_nested routine deprecated, please use omp_set_max_active_levels instead.\n"
     ]
    },
    {
     "name": "stdout",
     "output_type": "stream",
     "text": [
      "R² with defaults: 0.18379525083542872\n"
     ]
    }
   ],
   "source": [
    "spline = vd.Spline()\n",
    "score_default = np.mean(\n",
    "    vd.cross_val_score(spline, coordinates, df.MOLASSE)\n",
    ")\n",
    "spline.fit(coordinates, df.MOLASSE)\n",
    "print(\"R² with defaults:\", score_default)"
   ]
  },
  {
   "cell_type": "code",
   "execution_count": 101,
   "metadata": {},
   "outputs": [],
   "source": [
    "chain = vd.Chain(\n",
    "    [\n",
    "        (\"mean\", vd.BlockReduce(np.mean, spacing=spacing )),\n",
    "        # (\"spline\", vd.Spline(damping=5e-2, mindist=1e2)),\n",
    "        (\"spline\", vd.Spline()),\n",
    "\n",
    "    ]\n",
    ")\n",
    "\n",
    "chain.fit(coordinates, df.MOLASSE)\n",
    "\n",
    "\n",
    "grid = chain.grid(\n",
    "    region=region,\n",
    "    spacing=spacing,\n",
    "    # projection=projection,\n",
    "    dims=[\"N\", \"E\"],\n",
    "    data_names=\"MOLASSE\",\n",
    ")"
   ]
  },
  {
   "cell_type": "code",
   "execution_count": 102,
   "metadata": {},
   "outputs": [
    {
     "data": {
      "image/png": "[encoded data removed]",
      "text/plain": [
       "<Figure size 720x720 with 2 Axes>"
      ]
     },
     "metadata": {},
     "output_type": "display_data"
    }
   ],
   "source": [
    "plot_depth('Biharmonic spline interpolation (default)', grid.MOLASSE,df, 'gist_earth_r', 'Depth of Molasse', -440, -280)\n"
   ]
  },
  {
   "cell_type": "markdown",
   "metadata": {},
   "source": [
    "### Biharmonic Spline interpolation using Verde (CV) \n",
    "\n",
    "Let's make a very simple  interpolation  using a biharmonic algorithm"
   ]
  },
  {
   "cell_type": "code",
   "execution_count": 71,
   "metadata": {},
   "outputs": [
    {
     "name": "stdout",
     "output_type": "stream",
     "text": [
      "Highest score: 0.4725352883539692\n",
      "Best damping: 0.01\n",
      "Best mindist: 1000\n"
     ]
    }
   ],
   "source": [
    "dampings = [None, 1e-4, 1e-3, 1e-2]\n",
    "mindists = [1e-5, 1, 100, 1000, 1000]\n",
    "\n",
    "spline = vd.SplineCV(\n",
    "    dampings=dampings,\n",
    "    mindists=mindists,\n",
    ")\n",
    "spline.fit(coordinates, df.MOLASSE)\n",
    "print(\"Highest score:\", spline.scores_.max())\n",
    "print(\"Best damping:\", spline.damping_)\n",
    "print(\"Best mindist:\", spline.mindist_)"
   ]
  },
  {
   "cell_type": "code",
   "execution_count": 108,
   "metadata": {},
   "outputs": [],
   "source": [
    "chain = vd.Chain(\n",
    "    [\n",
    "        (\"mean\", vd.BlockReduce(np.mean, spacing=spacing )),\n",
    "        (\"spline\", vd.Spline(damping=spline.damping_, mindist=spline.mindist_)),\n",
    "\n",
    "    ]\n",
    ")\n",
    "\n",
    "chain.fit(coordinates,df.MOLASSE)\n",
    "\n",
    "grid = chain.grid(\n",
    "    region=region,\n",
    "    spacing=spacing,\n",
    "    # projection=projection,\n",
    "    dims=[\"N\", \"E\"],\n",
    "    data_names=\"MOLASSE\",\n",
    ")"
   ]
  },
  {
   "cell_type": "code",
   "execution_count": 109,
   "metadata": {},
   "outputs": [
    {
     "data": {
      "image/png": "[encoded data removed]",
      "text/plain": [
       "<Figure size 720x720 with 2 Axes>"
      ]
     },
     "metadata": {},
     "output_type": "display_data"
    }
   ],
   "source": [
    "plot_depth('Biharmonic spline interpolation (cross-validated)', grid.MOLASSE,df, 'gist_earth_r', 'Depth of Molasse', -440, -280)"
   ]
  },
  {
   "cell_type": "markdown",
   "metadata": {},
   "source": [
    "## Gaussian process\n",
    "\n",
    "Gaussian Processes (GP) are a generic supervised learning method designed to solve regression and probabilistic classification problems.\n",
    "\n",
    "The advantages of Gaussian processes are:\n",
    "\n",
    "- The prediction interpolates the observations (at least for regular kernels).\n",
    "- The prediction is probabilistic (Gaussian) so that one can compute empirical confidence intervals and decide based on those if one should refit (online fitting, adaptive fitting) the prediction in some region of interest.\n",
    "- Versatile: different kernels can be specified. Common kernels are provided, but it is also possible to specify custom kernels."
   ]
  },
  {
   "cell_type": "code",
   "execution_count": 74,
   "metadata": {},
   "outputs": [
    {
     "data": {
      "text/plain": [
       "GaussianProcessRegressor(alpha=0.5, kernel=7.07**2 * RBF(length_scale=[50, 50]),\n",
       "                         normalize_y=True)"
      ]
     },
     "execution_count": 74,
     "metadata": {},
     "output_type": "execute_result"
    }
   ],
   "source": [
    "from sklearn.gaussian_process.kernels import RBF\n",
    "from sklearn.gaussian_process import GaussianProcessRegressor as GPR\n",
    "from sklearn.gaussian_process.kernels import Matern, RBF, ConstantKernel as C\n",
    "\n",
    "# kernel = RBF(length_scale=100)\n",
    "kernel = C(50.0) * RBF([50 ,50])\n",
    "\n",
    "\n",
    "gp = GPR(normalize_y=True, alpha=0.5, kernel=kernel,)\n",
    "\n",
    "gp.fit(df[['E', 'N']].values, df.MOLASSE.values)"
   ]
  },
  {
   "cell_type": "code",
   "execution_count": 75,
   "metadata": {},
   "outputs": [],
   "source": [
    "X_grid = np.stack([grid_E.ravel(), grid_N.ravel()]).T\n",
    "y_grid = gp.predict(X_grid).reshape(grid_E.shape)"
   ]
  },
  {
   "cell_type": "code",
   "execution_count": 77,
   "metadata": {},
   "outputs": [
    {
     "data": {
      "image/png": "[encoded data removed]",
      "text/plain": [
       "<Figure size 720x720 with 2 Axes>"
      ]
     },
     "metadata": {},
     "output_type": "display_data"
    }
   ],
   "source": [
    "\n",
    "# mi = np.min(np.hstack([y_grid.ravel(), df.MOLASSE.values]))\n",
    "# ma = np.max(np.hstack([y_grid.ravel(), df.MOLASSE.values]))\n",
    "mi=-440\n",
    "ma=-280\n",
    "\n",
    "# Plot it all.\n",
    "plt.figure(figsize=(10,10))\n",
    "im = plt.imshow(y_grid, origin='lower', extent=region, vmin=mi, vmax=ma, cmap='gist_earth_r')\n",
    "pts = plt.scatter(df.E, df.N, c=df.MOLASSE, s=80, edgecolor='#ffffff66', vmin=mi, vmax=ma, cmap='gist_earth_r')\n",
    "plt.colorbar(im, shrink=0.67)\n",
    "plt.title('Gaussian Processes interpolation')\n",
    "plt.grid(False)\n",
    "plt.show()\n"
   ]
  },
  {
   "cell_type": "markdown",
   "metadata": {},
   "source": [
    "### VTK/pyvista visualization"
   ]
  },
  {
   "cell_type": "code",
   "execution_count": null,
   "metadata": {},
   "outputs": [],
   "source": [
    "# np.save('../data/grid_E.npy', grid_E)\n",
    "# np.save('../data/grid_N.npy', grid_N)"
   ]
  },
  {
   "cell_type": "code",
   "execution_count": 104,
   "metadata": {},
   "outputs": [
    {
     "data": {
      "text/plain": [
       "(121, 121)"
      ]
     },
     "execution_count": 104,
     "metadata": {},
     "output_type": "execute_result"
    }
   ],
   "source": [
    "grid.MOLASSE.shape"
   ]
  },
  {
   "cell_type": "code",
   "execution_count": 110,
   "metadata": {},
   "outputs": [
    {
     "data": {
      "text/plain": [
       "<vtkmodules.vtkRenderingAnnotation.vtkCubeAxesActor(0x7f81f7849600) at 0x151025280>"
      ]
     },
     "execution_count": 110,
     "metadata": {},
     "output_type": "execute_result"
    }
   ],
   "source": [
    "mesh = pv.StructuredGrid()\n",
    "mesh.points = np.array([grid_E.ravel(), grid_N.ravel(), grid.MOLASSE.values.ravel()]).T\n",
    "# mesh\n",
    "mesh.dimensions =  [grid.MOLASSE.shape[1], grid.MOLASSE.shape[0], 1]\n",
    "mesh[\"Elevation\"] = grid.MOLASSE.values.ravel()\n",
    "# mesh['ALLUV_ANC_verde'] = grid.ALLUV_ANC.values.ravel()\n",
    "mesh_warped = mesh.warp_by_scalar(factor=5)\n",
    "mesh_warped.save('../data/Spline_CV.vtk')\n",
    "# mesh[\"Elevation\"].warp_by_scalar(factor=500)\n",
    "# subset  = mesh.extract_subset((100,150, 100,150, 0,0))\n",
    "\n",
    "import pyvistaqt as pvqt\n",
    "p = pvqt.BackgroundPlotter()\n",
    "\n",
    "p.add_mesh(mesh_warped, cmap='gist_earth_r',show_edges=False)\n",
    "# p.add_mesh(mesh1, cmap='gist_earth',show_edges=False)\n",
    "p.show_bounds(grid=True, location='front')\n",
    "p.show_grid()"
   ]
  },
  {
   "cell_type": "code",
   "execution_count": null,
   "metadata": {},
   "outputs": [],
   "source": [
    "points = pv.PolyData(df[['E','N','MOLASSE']].values)\n",
    "points['Elevation'] = df.MOLASSE.values\n",
    "points1 = points.warp_by_scalar(factor=5)\n",
    "points1.save('../data/sondage.vtk')"
   ]
  }
 ],
 "metadata": {
  "interpreter": {
   "hash": "a9fd7ed2ddc5ef02c7e6c33cc09ee15930d7c19d0fb4050d3f76414fe1652d2c"
  },
  "kernelspec": {
   "display_name": "SITG_map",
   "language": "python",
   "name": "sitg_map"
  },
  "language_info": {
   "codemirror_mode": {
    "name": "ipython",
    "version": 3
   },
   "file_extension": ".py",
   "mimetype": "text/x-python",
   "name": "python",
   "nbconvert_exporter": "python",
   "pygments_lexer": "ipython3",
   "version": "3.9.10"
  },
  "orig_nbformat": 4
 },
 "nbformat": 4,
 "nbformat_minor": 2
}
